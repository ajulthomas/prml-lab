{
 "cells": [
  {
   "cell_type": "code",
   "execution_count": 6,
   "id": "f9f563dd-c807-4a30-972b-3acf8e33bfa4",
   "metadata": {},
   "outputs": [
    {
     "data": {
      "image/png": "[encoded data removed]",
      "text/plain": [
       "<Figure size 640x480 with 1 Axes>"
      ]
     },
     "metadata": {},
     "output_type": "display_data"
    }
   ],
   "source": [
    "import numpy as np\n",
    "import matplotlib.pyplot as plt\n",
    "from sklearn.preprocessing import PolynomialFeatures\n",
    "from sklearn.linear_model import LinearRegression\n",
    "\n",
    "# Dataset\n",
    "X = np.array([1, 2, 3, 4, 5])\n",
    "y = np.array([2, 4, 6, 8, 10])\n",
    "\n",
    "# Reshape the feature array\n",
    "X = X.reshape(-1, 1)\n",
    "\n",
    "# Define the degree of the polynomial\n",
    "degree = 3\n",
    "\n",
    "# Create polynomial features\n",
    "poly_features = PolynomialFeatures(degree=degree)\n",
    "X_poly = poly_features.fit_transform(X)\n",
    "\n",
    "# Create and train the polynomial regression model\n",
    "model = LinearRegression()\n",
    "model.fit(X_poly, y)\n",
    "\n",
    "# Generate data for plotting\n",
    "X_plot = np.linspace(0, 6, 100).reshape(-1, 1)\n",
    "X_plot_poly = poly_features.transform(X_plot)\n",
    "y_plot = model.predict(X_plot_poly)\n",
    "\n",
    "# Plot the original data and the fitted polynomial curve\n",
    "plt.scatter(X, y, label='Original Data')\n",
    "plt.plot(X_plot, y_plot, color='red', label='Polynomial Fit')\n",
    "plt.xlabel('X')\n",
    "plt.ylabel('y')\n",
    "plt.title('Polynomial Fit of Degree {}'.format(degree))\n",
    "plt.legend()\n",
    "plt.show()"
   ]
  },
  {
   "cell_type": "code",
   "execution_count": 2,
   "id": "406f00bf-acd5-4a6c-8c20-71738ddfc001",
   "metadata": {},
   "outputs": [
    {
     "name": "stdout",
     "output_type": "stream",
     "text": [
      "pip 23.1.2 from C:\\Program Files\\Python311\\Lib\\site-packages\\pip (python 3.11)\n",
      "\n",
      "Note: you may need to restart the kernel to use updated packages.\n"
     ]
    }
   ],
   "source": [
    "pip --version"
   ]
  },
  {
   "cell_type": "code",
   "execution_count": 3,
   "id": "535255c4-d800-471b-9710-2107c29efc36",
   "metadata": {},
   "outputs": [
    {
     "name": "stdout",
     "output_type": "stream",
     "text": [
      "Defaulting to user installation because normal site-packages is not writeable\n",
      "Collecting numpy\n",
      "  Downloading numpy-1.25.2-cp311-cp311-win_amd64.whl (15.5 MB)\n",
      "                                              0.0/15.5 MB ? eta -:--:--\n",
      "                                              0.4/15.5 MB 11.2 MB/s eta 0:00:02\n",
      "     -                                        0.5/15.5 MB 5.8 MB/s eta 0:00:03\n",
      "     --                                       0.8/15.5 MB 6.6 MB/s eta 0:00:03\n",
      "     ---                                      1.4/15.5 MB 7.5 MB/s eta 0:00:02\n",
      "     -----                                    2.2/15.5 MB 9.5 MB/s eta 0:00:02\n",
      "     -------                                  2.8/15.5 MB 10.0 MB/s eta 0:00:02\n",
      "     ---------                                3.6/15.5 MB 11.0 MB/s eta 0:00:02\n",
      "     ----------                               4.1/15.5 MB 10.9 MB/s eta 0:00:02\n",
      "     ------------                             4.8/15.5 MB 11.3 MB/s eta 0:00:01\n",
      "     --------------                           5.5/15.5 MB 11.8 MB/s eta 0:00:01\n",
      "     ---------------                          6.1/15.5 MB 11.9 MB/s eta 0:00:01\n",
      "     -----------------                        6.6/15.5 MB 11.8 MB/s eta 0:00:01\n",
      "     -----------------                        7.0/15.5 MB 11.1 MB/s eta 0:00:01\n",
      "     -------------------                      7.6/15.5 MB 11.3 MB/s eta 0:00:01\n",
      "     ---------------------                    8.3/15.5 MB 11.5 MB/s eta 0:00:01\n",
      "     ----------------------                   8.8/15.5 MB 11.7 MB/s eta 0:00:01\n",
      "     ------------------------                 9.5/15.5 MB 11.6 MB/s eta 0:00:01\n",
      "     -------------------------               10.1/15.5 MB 12.0 MB/s eta 0:00:01\n",
      "     --------------------------              10.7/15.5 MB 12.6 MB/s eta 0:00:01\n",
      "     ----------------------------            11.5/15.5 MB 13.1 MB/s eta 0:00:01\n",
      "     ------------------------------          12.1/15.5 MB 13.1 MB/s eta 0:00:01\n",
      "     --------------------------------        13.0/15.5 MB 13.4 MB/s eta 0:00:01\n",
      "     ----------------------------------      13.7/15.5 MB 13.4 MB/s eta 0:00:01\n",
      "     ------------------------------------    14.5/15.5 MB 13.6 MB/s eta 0:00:01\n",
      "     --------------------------------------  15.2/15.5 MB 13.4 MB/s eta 0:00:01\n",
      "     --------------------------------------  15.5/15.5 MB 13.4 MB/s eta 0:00:01\n",
      "     --------------------------------------  15.5/15.5 MB 13.4 MB/s eta 0:00:01\n",
      "     --------------------------------------- 15.5/15.5 MB 11.7 MB/s eta 0:00:00\n",
      "Installing collected packages: numpy\n",
      "Successfully installed numpy-1.25.2\n",
      "Note: you may need to restart the kernel to use updated packages.\n"
     ]
    },
    {
     "name": "stderr",
     "output_type": "stream",
     "text": [
      "  WARNING: The script f2py.exe is installed in 'C:\\Users\\ajult\\AppData\\Roaming\\Python\\Python311\\Scripts' which is not on PATH.\n",
      "  Consider adding this directory to PATH or, if you prefer to suppress this warning, use --no-warn-script-location.\n",
      "\n",
      "[notice] A new release of pip is available: 23.1.2 -> 23.2.1\n",
      "[notice] To update, run: python.exe -m pip install --upgrade pip\n"
     ]
    }
   ],
   "source": [
    "pip install numpy"
   ]
  },
  {
   "cell_type": "code",
   "execution_count": 5,
   "id": "7e73b9da-b437-454b-a995-6a9b0bb4c0b1",
   "metadata": {},
   "outputs": [
    {
     "name": "stdout",
     "output_type": "stream",
     "text": [
      "Defaulting to user installation because normal site-packages is not writeable\n",
      "Requirement already satisfied: matplotlib in c:\\users\\ajult\\appdata\\roaming\\python\\python311\\site-packages (3.7.2)\n",
      "Requirement already satisfied: contourpy>=1.0.1 in c:\\users\\ajult\\appdata\\roaming\\python\\python311\\site-packages (from matplotlib) (1.1.0)\n",
      "Requirement already satisfied: cycler>=0.10 in c:\\users\\ajult\\appdata\\roaming\\python\\python311\\site-packages (from matplotlib) (0.11.0)\n",
      "Requirement already satisfied: fonttools>=4.22.0 in c:\\users\\ajult\\appdata\\roaming\\python\\python311\\site-packages (from matplotlib) (4.42.0)\n",
      "Requirement already satisfied: kiwisolver>=1.0.1 in c:\\users\\ajult\\appdata\\roaming\\python\\python311\\site-packages (from matplotlib) (1.4.4)\n",
      "Requirement already satisfied: numpy>=1.20 in c:\\users\\ajult\\appdata\\roaming\\python\\python311\\site-packages (from matplotlib) (1.25.2)\n",
      "Requirement already satisfied: packaging>=20.0 in c:\\users\\ajult\\appdata\\roaming\\python\\python311\\site-packages (from matplotlib) (23.1)\n",
      "Requirement already satisfied: pillow>=6.2.0 in c:\\users\\ajult\\appdata\\roaming\\python\\python311\\site-packages (from matplotlib) (10.0.0)\n",
      "Requirement already satisfied: pyparsing<3.1,>=2.3.1 in c:\\users\\ajult\\appdata\\roaming\\python\\python311\\site-packages (from matplotlib) (3.0.9)\n",
      "Requirement already satisfied: python-dateutil>=2.7 in c:\\users\\ajult\\appdata\\roaming\\python\\python311\\site-packages (from matplotlib) (2.8.2)\n",
      "Requirement already satisfied: six>=1.5 in c:\\users\\ajult\\appdata\\roaming\\python\\python311\\site-packages (from python-dateutil>=2.7->matplotlib) (1.16.0)\n",
      "Note: you may need to restart the kernel to use updated packages.\n"
     ]
    },
    {
     "name": "stderr",
     "output_type": "stream",
     "text": [
      "\n",
      "[notice] A new release of pip is available: 23.1.2 -> 23.2.1\n",
      "[notice] To update, run: python.exe -m pip install --upgrade pip\n"
     ]
    }
   ],
   "source": [
    "pip install matplotlib"
   ]
  },
  {
   "cell_type": "code",
   "execution_count": null,
   "id": "f037ce2b-1a24-46fd-bf53-e06a149d6c84",
   "metadata": {},
   "outputs": [],
   "source": []
  }
 ],
 "metadata": {
  "kernelspec": {
   "display_name": "Python 3 (ipykernel)",
   "language": "python",
   "name": "python3"
  },
  "language_info": {
   "codemirror_mode": {
    "name": "ipython",
    "version": 3
   },
   "file_extension": ".py",
   "mimetype": "text/x-python",
   "name": "python",
   "nbconvert_exporter": "python",
   "pygments_lexer": "ipython3",
   "version": "3.11.4"
  }
 },
 "nbformat": 4,
 "nbformat_minor": 5
}
