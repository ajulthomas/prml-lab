{
 "cells": [
  {
   "cell_type": "markdown",
   "metadata": {},
   "source": [
    "# Introduction"
   ]
  },
  {
   "cell_type": "markdown",
   "metadata": {},
   "source": [
    "Proliferation of cryptocurrencies (e.g., Bitcoin) that allow pseudo-anonymous transactions, has made it easier for ransomware developers to demand ransom by encrypting sensitive user data. The recently revealed strikes of ransomware attacks have already resulted in significant economic losses and societal harm across different sectors, ranging from local governments to health care.\n",
    "Most modern ransomware use Bitcoin for payments. However, although Bitcoin transactions are permanently recorded and publicly available, current approaches for detecting ransomware depend only on a couple of heuristics and/or tedious information gathering steps (e.g., running ransomware to collect ransomware related Bitcoin addresses).\n",
    "\n",
    "In this tutorial, we would like to do Ransomware Detection on the Bitcoin Blockchain using the K-NN model. "
   ]
  },
  {
   "cell_type": "markdown",
   "metadata": {},
   "source": [
    "# Dataset \n",
    "\n",
    "\n",
    "The dataset used is BitcoinHeist Ransomware Dataset\n",
    "\n",
    "https://archive.ics.uci.edu/ml/datasets/BitcoinHeistRansomwareAddressDataset \n",
    "\n",
    "Features\n",
    "\n",
    "- address: String. Bitcoin address.\n",
    "- year: Integer. Year.\n",
    "- day: Integer. Day of the year. 1 is the first day, 365 is the last day.\n",
    "- length: Integer.\n",
    "- weight: Float.\n",
    "- count: Integer.\n",
    "- looped: Integer.\n",
    "- neighbors: Integer.\n",
    "- income: Integer. Satoshi amount (1 bitcoin = 100 million satoshis).\n",
    "- label: Category String. Name of the ransomware family (e.g., Cryptxxx, cryptolocker etc) or white (i.e., not known to be ransomware).\n",
    "\n",
    "Our graph features are designed to quantify specific transaction patterns. Loop is intended to count how many transaction i) split their coins; ii) move these coins in the network by using different paths and finally, and iii) merge them in a single address. Coins at this final address can then be sold and converted to fiat currency. Weight quantifies the merge behavior (i.e., the transaction has more input addresses than output addresses), where coins in multiple addresses are each passed through a succession of merging transactions and accumulated in a final address. Similar to weight, the count feature is designed to quantify the merging pattern. However, the count feature represents information on the number of transactions, whereas the weight feature represents information on the amount (what percent of these transactions’ output?) of transactions. Length is designed to quantify mixing rounds on Bitcoin, where transactions receive and distribute similar amounts of coins in multiple rounds with newly created addresses to hide the coin origin.\n",
    "\n",
    "White Bitcoin addresses are capped at 1K per day (Bitcoin has 800K addresses daily).\n",
    "\n",
    "Note that although we are certain about ransomware labels, we do not know if all white addresses are in fact not related to ransomware.\n",
    "\n",
    "When compared to non-ransomware addresses, ransomware addresses exhibit more profound right skewness in distributions of feature values."
   ]
  },
  {
   "cell_type": "markdown",
   "metadata": {},
   "source": [
    "# Read the data"
   ]
  },
  {
   "cell_type": "code",
   "execution_count": 1,
   "metadata": {},
   "outputs": [],
   "source": [
    "import pandas as pd\n",
    "from sklearn.model_selection import train_test_split"
   ]
  },
  {
   "cell_type": "code",
   "execution_count": 2,
   "metadata": {},
   "outputs": [],
   "source": [
    "bitcoin_heist = pd.read_csv(\"BitcoinHeistData.csv\")"
   ]
  },
  {
   "cell_type": "markdown",
   "metadata": {},
   "source": [
    "# Data Exploration"
   ]
  },
  {
   "cell_type": "code",
   "execution_count": 3,
   "metadata": {},
   "outputs": [
    {
     "data": {
      "text/html": [
       "<div>\n",
       "<style scoped>\n",
       "    .dataframe tbody tr th:only-of-type {\n",
       "        vertical-align: middle;\n",
       "    }\n",
       "\n",
       "    .dataframe tbody tr th {\n",
       "        vertical-align: top;\n",
       "    }\n",
       "\n",
       "    .dataframe thead th {\n",
       "        text-align: right;\n",
       "    }\n",
       "</style>\n",
       "<table border=\"1\" class=\"dataframe\">\n",
       "  <thead>\n",
       "    <tr style=\"text-align: right;\">\n",
       "      <th></th>\n",
       "      <th>address</th>\n",
       "      <th>year</th>\n",
       "      <th>day</th>\n",
       "      <th>length</th>\n",
       "      <th>weight</th>\n",
       "      <th>count</th>\n",
       "      <th>looped</th>\n",
       "      <th>neighbors</th>\n",
       "      <th>income</th>\n",
       "      <th>label</th>\n",
       "    </tr>\n",
       "  </thead>\n",
       "  <tbody>\n",
       "    <tr>\n",
       "      <th>0</th>\n",
       "      <td>111K8kZAEnJg245r2cM6y9zgJGHZtJPy6</td>\n",
       "      <td>2017</td>\n",
       "      <td>11</td>\n",
       "      <td>18</td>\n",
       "      <td>0.008333</td>\n",
       "      <td>1</td>\n",
       "      <td>0</td>\n",
       "      <td>2</td>\n",
       "      <td>100050000.0</td>\n",
       "      <td>princetonCerber</td>\n",
       "    </tr>\n",
       "    <tr>\n",
       "      <th>1</th>\n",
       "      <td>1123pJv8jzeFQaCV4w644pzQJzVWay2zcA</td>\n",
       "      <td>2016</td>\n",
       "      <td>132</td>\n",
       "      <td>44</td>\n",
       "      <td>0.000244</td>\n",
       "      <td>1</td>\n",
       "      <td>0</td>\n",
       "      <td>1</td>\n",
       "      <td>100000000.0</td>\n",
       "      <td>princetonLocky</td>\n",
       "    </tr>\n",
       "    <tr>\n",
       "      <th>2</th>\n",
       "      <td>112536im7hy6wtKbpH1qYDWtTyMRAcA2p7</td>\n",
       "      <td>2016</td>\n",
       "      <td>246</td>\n",
       "      <td>0</td>\n",
       "      <td>1.000000</td>\n",
       "      <td>1</td>\n",
       "      <td>0</td>\n",
       "      <td>2</td>\n",
       "      <td>200000000.0</td>\n",
       "      <td>princetonCerber</td>\n",
       "    </tr>\n",
       "    <tr>\n",
       "      <th>3</th>\n",
       "      <td>1126eDRw2wqSkWosjTCre8cjjQW8sSeWH7</td>\n",
       "      <td>2016</td>\n",
       "      <td>322</td>\n",
       "      <td>72</td>\n",
       "      <td>0.003906</td>\n",
       "      <td>1</td>\n",
       "      <td>0</td>\n",
       "      <td>2</td>\n",
       "      <td>71200000.0</td>\n",
       "      <td>princetonCerber</td>\n",
       "    </tr>\n",
       "    <tr>\n",
       "      <th>4</th>\n",
       "      <td>1129TSjKtx65E35GiUo4AYVeyo48twbrGX</td>\n",
       "      <td>2016</td>\n",
       "      <td>238</td>\n",
       "      <td>144</td>\n",
       "      <td>0.072848</td>\n",
       "      <td>456</td>\n",
       "      <td>0</td>\n",
       "      <td>1</td>\n",
       "      <td>200000000.0</td>\n",
       "      <td>princetonLocky</td>\n",
       "    </tr>\n",
       "  </tbody>\n",
       "</table>\n",
       "</div>"
      ],
      "text/plain": [
       "                              address  year  day  length    weight  count  \\\n",
       "0   111K8kZAEnJg245r2cM6y9zgJGHZtJPy6  2017   11      18  0.008333      1   \n",
       "1  1123pJv8jzeFQaCV4w644pzQJzVWay2zcA  2016  132      44  0.000244      1   \n",
       "2  112536im7hy6wtKbpH1qYDWtTyMRAcA2p7  2016  246       0  1.000000      1   \n",
       "3  1126eDRw2wqSkWosjTCre8cjjQW8sSeWH7  2016  322      72  0.003906      1   \n",
       "4  1129TSjKtx65E35GiUo4AYVeyo48twbrGX  2016  238     144  0.072848    456   \n",
       "\n",
       "   looped  neighbors       income            label  \n",
       "0       0          2  100050000.0  princetonCerber  \n",
       "1       0          1  100000000.0   princetonLocky  \n",
       "2       0          2  200000000.0  princetonCerber  \n",
       "3       0          2   71200000.0  princetonCerber  \n",
       "4       0          1  200000000.0   princetonLocky  "
      ]
     },
     "execution_count": 3,
     "metadata": {},
     "output_type": "execute_result"
    }
   ],
   "source": [
    "bitcoin_heist.head()"
   ]
  },
  {
   "cell_type": "code",
   "execution_count": 4,
   "metadata": {},
   "outputs": [
    {
     "data": {
      "text/html": [
       "<div>\n",
       "<style scoped>\n",
       "    .dataframe tbody tr th:only-of-type {\n",
       "        vertical-align: middle;\n",
       "    }\n",
       "\n",
       "    .dataframe tbody tr th {\n",
       "        vertical-align: top;\n",
       "    }\n",
       "\n",
       "    .dataframe thead th {\n",
       "        text-align: right;\n",
       "    }\n",
       "</style>\n",
       "<table border=\"1\" class=\"dataframe\">\n",
       "  <thead>\n",
       "    <tr style=\"text-align: right;\">\n",
       "      <th></th>\n",
       "      <th>year</th>\n",
       "      <th>day</th>\n",
       "      <th>length</th>\n",
       "      <th>weight</th>\n",
       "      <th>count</th>\n",
       "      <th>looped</th>\n",
       "      <th>neighbors</th>\n",
       "      <th>income</th>\n",
       "    </tr>\n",
       "  </thead>\n",
       "  <tbody>\n",
       "    <tr>\n",
       "      <th>count</th>\n",
       "      <td>2.916697e+06</td>\n",
       "      <td>2.916697e+06</td>\n",
       "      <td>2.916697e+06</td>\n",
       "      <td>2.916697e+06</td>\n",
       "      <td>2.916697e+06</td>\n",
       "      <td>2.916697e+06</td>\n",
       "      <td>2.916697e+06</td>\n",
       "      <td>2.916697e+06</td>\n",
       "    </tr>\n",
       "    <tr>\n",
       "      <th>mean</th>\n",
       "      <td>2.014475e+03</td>\n",
       "      <td>1.814572e+02</td>\n",
       "      <td>4.500859e+01</td>\n",
       "      <td>5.455192e-01</td>\n",
       "      <td>7.216446e+02</td>\n",
       "      <td>2.385067e+02</td>\n",
       "      <td>2.206516e+00</td>\n",
       "      <td>4.464889e+09</td>\n",
       "    </tr>\n",
       "    <tr>\n",
       "      <th>std</th>\n",
       "      <td>2.257398e+00</td>\n",
       "      <td>1.040118e+02</td>\n",
       "      <td>5.898236e+01</td>\n",
       "      <td>3.674255e+00</td>\n",
       "      <td>1.689676e+03</td>\n",
       "      <td>9.663217e+02</td>\n",
       "      <td>1.791877e+01</td>\n",
       "      <td>1.626860e+11</td>\n",
       "    </tr>\n",
       "    <tr>\n",
       "      <th>min</th>\n",
       "      <td>2.011000e+03</td>\n",
       "      <td>1.000000e+00</td>\n",
       "      <td>0.000000e+00</td>\n",
       "      <td>3.606469e-94</td>\n",
       "      <td>1.000000e+00</td>\n",
       "      <td>0.000000e+00</td>\n",
       "      <td>1.000000e+00</td>\n",
       "      <td>3.000000e+07</td>\n",
       "    </tr>\n",
       "    <tr>\n",
       "      <th>25%</th>\n",
       "      <td>2.013000e+03</td>\n",
       "      <td>9.200000e+01</td>\n",
       "      <td>2.000000e+00</td>\n",
       "      <td>2.148438e-02</td>\n",
       "      <td>1.000000e+00</td>\n",
       "      <td>0.000000e+00</td>\n",
       "      <td>1.000000e+00</td>\n",
       "      <td>7.428559e+07</td>\n",
       "    </tr>\n",
       "    <tr>\n",
       "      <th>50%</th>\n",
       "      <td>2.014000e+03</td>\n",
       "      <td>1.810000e+02</td>\n",
       "      <td>8.000000e+00</td>\n",
       "      <td>2.500000e-01</td>\n",
       "      <td>1.000000e+00</td>\n",
       "      <td>0.000000e+00</td>\n",
       "      <td>2.000000e+00</td>\n",
       "      <td>1.999985e+08</td>\n",
       "    </tr>\n",
       "    <tr>\n",
       "      <th>75%</th>\n",
       "      <td>2.016000e+03</td>\n",
       "      <td>2.710000e+02</td>\n",
       "      <td>1.080000e+02</td>\n",
       "      <td>8.819482e-01</td>\n",
       "      <td>5.600000e+01</td>\n",
       "      <td>0.000000e+00</td>\n",
       "      <td>2.000000e+00</td>\n",
       "      <td>9.940000e+08</td>\n",
       "    </tr>\n",
       "    <tr>\n",
       "      <th>max</th>\n",
       "      <td>2.018000e+03</td>\n",
       "      <td>3.650000e+02</td>\n",
       "      <td>1.440000e+02</td>\n",
       "      <td>1.943749e+03</td>\n",
       "      <td>1.449700e+04</td>\n",
       "      <td>1.449600e+04</td>\n",
       "      <td>1.292000e+04</td>\n",
       "      <td>4.996440e+13</td>\n",
       "    </tr>\n",
       "  </tbody>\n",
       "</table>\n",
       "</div>"
      ],
      "text/plain": [
       "               year           day        length        weight         count  \\\n",
       "count  2.916697e+06  2.916697e+06  2.916697e+06  2.916697e+06  2.916697e+06   \n",
       "mean   2.014475e+03  1.814572e+02  4.500859e+01  5.455192e-01  7.216446e+02   \n",
       "std    2.257398e+00  1.040118e+02  5.898236e+01  3.674255e+00  1.689676e+03   \n",
       "min    2.011000e+03  1.000000e+00  0.000000e+00  3.606469e-94  1.000000e+00   \n",
       "25%    2.013000e+03  9.200000e+01  2.000000e+00  2.148438e-02  1.000000e+00   \n",
       "50%    2.014000e+03  1.810000e+02  8.000000e+00  2.500000e-01  1.000000e+00   \n",
       "75%    2.016000e+03  2.710000e+02  1.080000e+02  8.819482e-01  5.600000e+01   \n",
       "max    2.018000e+03  3.650000e+02  1.440000e+02  1.943749e+03  1.449700e+04   \n",
       "\n",
       "             looped     neighbors        income  \n",
       "count  2.916697e+06  2.916697e+06  2.916697e+06  \n",
       "mean   2.385067e+02  2.206516e+00  4.464889e+09  \n",
       "std    9.663217e+02  1.791877e+01  1.626860e+11  \n",
       "min    0.000000e+00  1.000000e+00  3.000000e+07  \n",
       "25%    0.000000e+00  1.000000e+00  7.428559e+07  \n",
       "50%    0.000000e+00  2.000000e+00  1.999985e+08  \n",
       "75%    0.000000e+00  2.000000e+00  9.940000e+08  \n",
       "max    1.449600e+04  1.292000e+04  4.996440e+13  "
      ]
     },
     "execution_count": 4,
     "metadata": {},
     "output_type": "execute_result"
    }
   ],
   "source": [
    "bitcoin_heist.describe()"
   ]
  },
  {
   "cell_type": "code",
   "execution_count": 5,
   "metadata": {},
   "outputs": [
    {
     "data": {
      "text/html": [
       "<div>\n",
       "<style scoped>\n",
       "    .dataframe tbody tr th:only-of-type {\n",
       "        vertical-align: middle;\n",
       "    }\n",
       "\n",
       "    .dataframe tbody tr th {\n",
       "        vertical-align: top;\n",
       "    }\n",
       "\n",
       "    .dataframe thead th {\n",
       "        text-align: right;\n",
       "    }\n",
       "</style>\n",
       "<table border=\"1\" class=\"dataframe\">\n",
       "  <thead>\n",
       "    <tr style=\"text-align: right;\">\n",
       "      <th></th>\n",
       "      <th>address</th>\n",
       "      <th>label</th>\n",
       "    </tr>\n",
       "  </thead>\n",
       "  <tbody>\n",
       "    <tr>\n",
       "      <th>count</th>\n",
       "      <td>2916697</td>\n",
       "      <td>2916697</td>\n",
       "    </tr>\n",
       "    <tr>\n",
       "      <th>unique</th>\n",
       "      <td>2631095</td>\n",
       "      <td>29</td>\n",
       "    </tr>\n",
       "    <tr>\n",
       "      <th>top</th>\n",
       "      <td>1LXrSb67EaH1LGc6d6kWHq8rgv4ZBQAcpU</td>\n",
       "      <td>white</td>\n",
       "    </tr>\n",
       "    <tr>\n",
       "      <th>freq</th>\n",
       "      <td>420</td>\n",
       "      <td>2875284</td>\n",
       "    </tr>\n",
       "  </tbody>\n",
       "</table>\n",
       "</div>"
      ],
      "text/plain": [
       "                                   address    label\n",
       "count                              2916697  2916697\n",
       "unique                             2631095       29\n",
       "top     1LXrSb67EaH1LGc6d6kWHq8rgv4ZBQAcpU    white\n",
       "freq                                   420  2875284"
      ]
     },
     "execution_count": 5,
     "metadata": {},
     "output_type": "execute_result"
    }
   ],
   "source": [
    "bitcoin_heist.describe(include=\"O\")"
   ]
  },
  {
   "cell_type": "code",
   "execution_count": 6,
   "metadata": {},
   "outputs": [
    {
     "data": {
      "text/plain": [
       "address       object\n",
       "year           int64\n",
       "day            int64\n",
       "length         int64\n",
       "weight       float64\n",
       "count          int64\n",
       "looped         int64\n",
       "neighbors      int64\n",
       "income       float64\n",
       "label         object\n",
       "dtype: object"
      ]
     },
     "execution_count": 6,
     "metadata": {},
     "output_type": "execute_result"
    }
   ],
   "source": [
    "bitcoin_heist.dtypes"
   ]
  },
  {
   "cell_type": "code",
   "execution_count": 7,
   "metadata": {},
   "outputs": [
    {
     "data": {
      "text/html": [
       "<div>\n",
       "<style scoped>\n",
       "    .dataframe tbody tr th:only-of-type {\n",
       "        vertical-align: middle;\n",
       "    }\n",
       "\n",
       "    .dataframe tbody tr th {\n",
       "        vertical-align: top;\n",
       "    }\n",
       "\n",
       "    .dataframe thead th {\n",
       "        text-align: right;\n",
       "    }\n",
       "</style>\n",
       "<table border=\"1\" class=\"dataframe\">\n",
       "  <thead>\n",
       "    <tr style=\"text-align: right;\">\n",
       "      <th></th>\n",
       "      <th>address</th>\n",
       "      <th>year</th>\n",
       "      <th>day</th>\n",
       "      <th>length</th>\n",
       "      <th>weight</th>\n",
       "      <th>count</th>\n",
       "      <th>looped</th>\n",
       "      <th>neighbors</th>\n",
       "      <th>income</th>\n",
       "      <th>label</th>\n",
       "    </tr>\n",
       "  </thead>\n",
       "  <tbody>\n",
       "    <tr>\n",
       "      <th>0</th>\n",
       "      <td>111K8kZAEnJg245r2cM6y9zgJGHZtJPy6</td>\n",
       "      <td>2017</td>\n",
       "      <td>11</td>\n",
       "      <td>18</td>\n",
       "      <td>0.008333</td>\n",
       "      <td>1</td>\n",
       "      <td>0</td>\n",
       "      <td>2</td>\n",
       "      <td>1.000500e+08</td>\n",
       "      <td>princetonCerber</td>\n",
       "    </tr>\n",
       "    <tr>\n",
       "      <th>1</th>\n",
       "      <td>1123pJv8jzeFQaCV4w644pzQJzVWay2zcA</td>\n",
       "      <td>2016</td>\n",
       "      <td>132</td>\n",
       "      <td>44</td>\n",
       "      <td>0.000244</td>\n",
       "      <td>1</td>\n",
       "      <td>0</td>\n",
       "      <td>1</td>\n",
       "      <td>1.000000e+08</td>\n",
       "      <td>princetonLocky</td>\n",
       "    </tr>\n",
       "    <tr>\n",
       "      <th>2</th>\n",
       "      <td>112536im7hy6wtKbpH1qYDWtTyMRAcA2p7</td>\n",
       "      <td>2016</td>\n",
       "      <td>246</td>\n",
       "      <td>0</td>\n",
       "      <td>1.000000</td>\n",
       "      <td>1</td>\n",
       "      <td>0</td>\n",
       "      <td>2</td>\n",
       "      <td>2.000000e+08</td>\n",
       "      <td>princetonCerber</td>\n",
       "    </tr>\n",
       "    <tr>\n",
       "      <th>3</th>\n",
       "      <td>1126eDRw2wqSkWosjTCre8cjjQW8sSeWH7</td>\n",
       "      <td>2016</td>\n",
       "      <td>322</td>\n",
       "      <td>72</td>\n",
       "      <td>0.003906</td>\n",
       "      <td>1</td>\n",
       "      <td>0</td>\n",
       "      <td>2</td>\n",
       "      <td>7.120000e+07</td>\n",
       "      <td>princetonCerber</td>\n",
       "    </tr>\n",
       "    <tr>\n",
       "      <th>4</th>\n",
       "      <td>1129TSjKtx65E35GiUo4AYVeyo48twbrGX</td>\n",
       "      <td>2016</td>\n",
       "      <td>238</td>\n",
       "      <td>144</td>\n",
       "      <td>0.072848</td>\n",
       "      <td>456</td>\n",
       "      <td>0</td>\n",
       "      <td>1</td>\n",
       "      <td>2.000000e+08</td>\n",
       "      <td>princetonLocky</td>\n",
       "    </tr>\n",
       "    <tr>\n",
       "      <th>...</th>\n",
       "      <td>...</td>\n",
       "      <td>...</td>\n",
       "      <td>...</td>\n",
       "      <td>...</td>\n",
       "      <td>...</td>\n",
       "      <td>...</td>\n",
       "      <td>...</td>\n",
       "      <td>...</td>\n",
       "      <td>...</td>\n",
       "      <td>...</td>\n",
       "    </tr>\n",
       "    <tr>\n",
       "      <th>2916692</th>\n",
       "      <td>12D3trgho1vJ4mGtWBRPyHdMJK96TRYSry</td>\n",
       "      <td>2018</td>\n",
       "      <td>330</td>\n",
       "      <td>0</td>\n",
       "      <td>0.111111</td>\n",
       "      <td>1</td>\n",
       "      <td>0</td>\n",
       "      <td>1</td>\n",
       "      <td>1.255809e+09</td>\n",
       "      <td>white</td>\n",
       "    </tr>\n",
       "    <tr>\n",
       "      <th>2916693</th>\n",
       "      <td>1P7PputTcVkhXBmXBvSD9MJ3UYPsiou1u2</td>\n",
       "      <td>2018</td>\n",
       "      <td>330</td>\n",
       "      <td>0</td>\n",
       "      <td>1.000000</td>\n",
       "      <td>1</td>\n",
       "      <td>0</td>\n",
       "      <td>1</td>\n",
       "      <td>4.409699e+07</td>\n",
       "      <td>white</td>\n",
       "    </tr>\n",
       "    <tr>\n",
       "      <th>2916694</th>\n",
       "      <td>1KYiKJEfdJtap9QX2v9BXJMpz2SfU4pgZw</td>\n",
       "      <td>2018</td>\n",
       "      <td>330</td>\n",
       "      <td>2</td>\n",
       "      <td>12.000000</td>\n",
       "      <td>6</td>\n",
       "      <td>6</td>\n",
       "      <td>35</td>\n",
       "      <td>2.398267e+09</td>\n",
       "      <td>white</td>\n",
       "    </tr>\n",
       "    <tr>\n",
       "      <th>2916695</th>\n",
       "      <td>15iPUJsRNZQZHmZZVwmQ63srsmughCXV4a</td>\n",
       "      <td>2018</td>\n",
       "      <td>330</td>\n",
       "      <td>0</td>\n",
       "      <td>0.500000</td>\n",
       "      <td>1</td>\n",
       "      <td>0</td>\n",
       "      <td>1</td>\n",
       "      <td>1.780427e+08</td>\n",
       "      <td>white</td>\n",
       "    </tr>\n",
       "    <tr>\n",
       "      <th>2916696</th>\n",
       "      <td>3LFFBxp15h9KSFtaw55np8eP5fv6kdK17e</td>\n",
       "      <td>2018</td>\n",
       "      <td>330</td>\n",
       "      <td>144</td>\n",
       "      <td>0.073972</td>\n",
       "      <td>6800</td>\n",
       "      <td>0</td>\n",
       "      <td>2</td>\n",
       "      <td>1.123500e+08</td>\n",
       "      <td>white</td>\n",
       "    </tr>\n",
       "  </tbody>\n",
       "</table>\n",
       "<p>2916697 rows × 10 columns</p>\n",
       "</div>"
      ],
      "text/plain": [
       "                                    address  year  day  length     weight  \\\n",
       "0         111K8kZAEnJg245r2cM6y9zgJGHZtJPy6  2017   11      18   0.008333   \n",
       "1        1123pJv8jzeFQaCV4w644pzQJzVWay2zcA  2016  132      44   0.000244   \n",
       "2        112536im7hy6wtKbpH1qYDWtTyMRAcA2p7  2016  246       0   1.000000   \n",
       "3        1126eDRw2wqSkWosjTCre8cjjQW8sSeWH7  2016  322      72   0.003906   \n",
       "4        1129TSjKtx65E35GiUo4AYVeyo48twbrGX  2016  238     144   0.072848   \n",
       "...                                     ...   ...  ...     ...        ...   \n",
       "2916692  12D3trgho1vJ4mGtWBRPyHdMJK96TRYSry  2018  330       0   0.111111   \n",
       "2916693  1P7PputTcVkhXBmXBvSD9MJ3UYPsiou1u2  2018  330       0   1.000000   \n",
       "2916694  1KYiKJEfdJtap9QX2v9BXJMpz2SfU4pgZw  2018  330       2  12.000000   \n",
       "2916695  15iPUJsRNZQZHmZZVwmQ63srsmughCXV4a  2018  330       0   0.500000   \n",
       "2916696  3LFFBxp15h9KSFtaw55np8eP5fv6kdK17e  2018  330     144   0.073972   \n",
       "\n",
       "         count  looped  neighbors        income            label  \n",
       "0            1       0          2  1.000500e+08  princetonCerber  \n",
       "1            1       0          1  1.000000e+08   princetonLocky  \n",
       "2            1       0          2  2.000000e+08  princetonCerber  \n",
       "3            1       0          2  7.120000e+07  princetonCerber  \n",
       "4          456       0          1  2.000000e+08   princetonLocky  \n",
       "...        ...     ...        ...           ...              ...  \n",
       "2916692      1       0          1  1.255809e+09            white  \n",
       "2916693      1       0          1  4.409699e+07            white  \n",
       "2916694      6       6         35  2.398267e+09            white  \n",
       "2916695      1       0          1  1.780427e+08            white  \n",
       "2916696   6800       0          2  1.123500e+08            white  \n",
       "\n",
       "[2916697 rows x 10 columns]"
      ]
     },
     "execution_count": 7,
     "metadata": {},
     "output_type": "execute_result"
    }
   ],
   "source": [
    "bitcoin_heist"
   ]
  },
  {
   "cell_type": "markdown",
   "metadata": {},
   "source": [
    "# K-NN model for ransomware detection"
   ]
  },
  {
   "cell_type": "code",
   "execution_count": 8,
   "metadata": {},
   "outputs": [],
   "source": [
    "from sklearn.neighbors import KNeighborsClassifier\n",
    "from sklearn.metrics import confusion_matrix\n",
    "from sklearn.metrics import classification_report\n",
    "from sklearn.metrics import f1_score\n",
    "from sklearn import metrics"
   ]
  },
  {
   "cell_type": "markdown",
   "metadata": {},
   "source": [
    "## Convert categorical values to numeric values\n",
    "\n",
    "Firstly, we convert a categorical column to numeric column: if a label is 'white', it is known to be ransomeware and is labelled 1. Otherwise, it is labelled 0"
   ]
  },
  {
   "cell_type": "code",
   "execution_count": 9,
   "metadata": {},
   "outputs": [],
   "source": [
    "bitcoin_heist[\"labels\"] = [0 if x == 'white' else 1 for x in bitcoin_heist['label']]"
   ]
  },
  {
   "cell_type": "code",
   "execution_count": 10,
   "metadata": {},
   "outputs": [
    {
     "data": {
      "text/plain": [
       "0    2875284\n",
       "1      41413\n",
       "Name: labels, dtype: int64"
      ]
     },
     "execution_count": 10,
     "metadata": {},
     "output_type": "execute_result"
    }
   ],
   "source": [
    "bitcoin_heist[\"labels\"].value_counts()"
   ]
  },
  {
   "cell_type": "markdown",
   "metadata": {},
   "source": [
    "## Extract features\n",
    "\n",
    "We use only the first 200000 instances. This step aims to reduce time complexity for identifing the optimal K. If we extract all instance, this will spend a lot of time.  "
   ]
  },
  {
   "cell_type": "code",
   "execution_count": 11,
   "metadata": {},
   "outputs": [],
   "source": [
    "X = bitcoin_heist.loc[0:200000, ['year',\"day\", \"length\", \"weight\",\"count\", \"looped\", \"neighbors\", \"income\"]]\n",
    "y = bitcoin_heist.loc[0:200000,'labels']"
   ]
  },
  {
   "cell_type": "markdown",
   "metadata": {},
   "source": [
    "## Split features and labels into a trainning and testing sets"
   ]
  },
  {
   "cell_type": "code",
   "execution_count": 12,
   "metadata": {},
   "outputs": [],
   "source": [
    "X_train, X_test, y_train, y_test = train_test_split(X, \n",
    "                                                    y, \n",
    "                                                    train_size = 0.8,\n",
    "                                                    random_state=0)"
   ]
  },
  {
   "cell_type": "markdown",
   "metadata": {},
   "source": [
    "## Build a K-NN model"
   ]
  },
  {
   "cell_type": "code",
   "execution_count": 13,
   "metadata": {},
   "outputs": [],
   "source": [
    "model = KNeighborsClassifier(3)"
   ]
  },
  {
   "cell_type": "markdown",
   "metadata": {},
   "source": [
    "## Training the model and make a prediction"
   ]
  },
  {
   "cell_type": "code",
   "execution_count": 14,
   "metadata": {},
   "outputs": [],
   "source": [
    "model.fit(X_train, y_train)\n",
    "y_pred = model.predict(X_test)"
   ]
  },
  {
   "cell_type": "markdown",
   "metadata": {},
   "source": [
    "## Evaluate the model"
   ]
  },
  {
   "cell_type": "code",
   "execution_count": 15,
   "metadata": {},
   "outputs": [
    {
     "name": "stdout",
     "output_type": "stream",
     "text": [
      "[[31167   551]\n",
      " [ 1632  6651]]\n"
     ]
    }
   ],
   "source": [
    "cm_knn = confusion_matrix(y_test, y_pred)\n",
    "print(cm_knn)"
   ]
  },
  {
   "cell_type": "code",
   "execution_count": 16,
   "metadata": {},
   "outputs": [
    {
     "name": "stdout",
     "output_type": "stream",
     "text": [
      "              precision    recall  f1-score   support\n",
      "\n",
      "           0       0.95      0.98      0.97     31718\n",
      "           1       0.92      0.80      0.86      8283\n",
      "\n",
      "    accuracy                           0.95     40001\n",
      "   macro avg       0.94      0.89      0.91     40001\n",
      "weighted avg       0.94      0.95      0.94     40001\n",
      "\n",
      "0.9439786835250186\n"
     ]
    }
   ],
   "source": [
    "report_knn = classification_report(y_test, y_pred)\n",
    "print(report_knn)\n",
    "f1_knn = f1_score(y_test, y_pred,average='weighted')\n",
    "print(f1_knn)"
   ]
  },
  {
   "cell_type": "markdown",
   "metadata": {},
   "source": [
    "## **Parameter Tunning using GridSearchCV**"
   ]
  },
  {
   "cell_type": "code",
   "execution_count": 17,
   "metadata": {},
   "outputs": [],
   "source": [
    "from sklearn.model_selection import GridSearchCV"
   ]
  },
  {
   "cell_type": "code",
   "execution_count": 18,
   "metadata": {},
   "outputs": [],
   "source": [
    "model = KNeighborsClassifier()"
   ]
  },
  {
   "cell_type": "code",
   "execution_count": 19,
   "metadata": {},
   "outputs": [],
   "source": [
    "params = {'n_neighbors': range(1,10)}"
   ]
  },
  {
   "cell_type": "code",
   "execution_count": 20,
   "metadata": {},
   "outputs": [
    {
     "data": {
      "text/plain": [
       "GridSearchCV(estimator=KNeighborsClassifier(),\n",
       "             param_grid={'n_neighbors': range(1, 10)})"
      ]
     },
     "execution_count": 20,
     "metadata": {},
     "output_type": "execute_result"
    }
   ],
   "source": [
    "# 10-fold\n",
    "#grs = GridSearchCV(model, param_grid=params, cv = 10)\n",
    "\n",
    "# 5-fold default\n",
    "grs = GridSearchCV(model, param_grid=params)\n",
    "grs.fit(X_train, y_train)"
   ]
  },
  {
   "cell_type": "code",
   "execution_count": 21,
   "metadata": {},
   "outputs": [
    {
     "name": "stdout",
     "output_type": "stream",
     "text": [
      "Best Hyper Parameters: {'n_neighbors': 3}\n"
     ]
    }
   ],
   "source": [
    "print(\"Best Hyper Parameters:\",grs.best_params_)"
   ]
  },
  {
   "cell_type": "code",
   "execution_count": 22,
   "metadata": {},
   "outputs": [],
   "source": [
    "y_pred=grs.predict(X_test)"
   ]
  },
  {
   "cell_type": "code",
   "execution_count": 23,
   "metadata": {},
   "outputs": [
    {
     "name": "stdout",
     "output_type": "stream",
     "text": [
      "Accuracy: 0.9454263643408914\n",
      "Precision: 0.944703493081991\n",
      "Recall: 0.9454263643408914\n",
      "F1-score: 0.9439786835250186\n"
     ]
    }
   ],
   "source": [
    "print(\"Accuracy:\",metrics.accuracy_score(y_test, y_pred))\n",
    "print(\"Precision:\",metrics.precision_score(y_test, y_pred, average = 'weighted'))\n",
    "print(\"Recall:\",metrics.recall_score(y_test, y_pred, average = 'weighted'))\n",
    "print(\"F1-score:\",metrics.f1_score(y_test, y_pred, average = 'weighted'))"
   ]
  },
  {
   "cell_type": "markdown",
   "metadata": {},
   "source": [
    "**Now, we will try to get more data to train the model**"
   ]
  },
  {
   "cell_type": "code",
   "execution_count": 24,
   "metadata": {},
   "outputs": [],
   "source": [
    "X = bitcoin_heist[['year',\"day\", \"length\", \"weight\",\"count\", \"looped\", \"neighbors\", \"income\"]]\n",
    "y = bitcoin_heist['labels']"
   ]
  },
  {
   "cell_type": "code",
   "execution_count": 25,
   "metadata": {},
   "outputs": [],
   "source": [
    "X_train, X_test, y_train, y_test = train_test_split(X, \n",
    "                                                    y, \n",
    "                                                    train_size = 0.8,\n",
    "                                                    random_state=0)"
   ]
  },
  {
   "cell_type": "code",
   "execution_count": 26,
   "metadata": {},
   "outputs": [],
   "source": [
    "model = KNeighborsClassifier(3)\n",
    "model.fit(X_train, y_train)\n",
    "y_pred = model.predict(X_test)"
   ]
  },
  {
   "cell_type": "code",
   "execution_count": 27,
   "metadata": {},
   "outputs": [
    {
     "name": "stdout",
     "output_type": "stream",
     "text": [
      "[[573486   1648]\n",
      " [  6172   2034]]\n"
     ]
    }
   ],
   "source": [
    "cm_knn = confusion_matrix(y_test, y_pred)\n",
    "print(cm_knn)"
   ]
  },
  {
   "cell_type": "code",
   "execution_count": 28,
   "metadata": {},
   "outputs": [
    {
     "name": "stdout",
     "output_type": "stream",
     "text": [
      "Accuracy: 0.9865944389206981\n",
      "Precision: 0.9832058580866595\n",
      "Recall: 0.9865944389206981\n",
      "F1-score: 0.9840699423444395\n"
     ]
    }
   ],
   "source": [
    "print(\"Accuracy:\",metrics.accuracy_score(y_test, y_pred))\n",
    "print(\"Precision:\",metrics.precision_score(y_test, y_pred, average = 'weighted'))\n",
    "print(\"Recall:\",metrics.recall_score(y_test, y_pred, average = 'weighted'))\n",
    "print(\"F1-score:\",metrics.f1_score(y_test, y_pred, average = 'weighted'))"
   ]
  }
 ],
 "metadata": {
  "kernelspec": {
   "display_name": "Python 3 (ipykernel)",
   "language": "python",
   "name": "python3"
  },
  "language_info": {
   "codemirror_mode": {
    "name": "ipython",
    "version": 3
   },
   "file_extension": ".py",
   "mimetype": "text/x-python",
   "name": "python",
   "nbconvert_exporter": "python",
   "pygments_lexer": "ipython3",
   "version": "3.9.7"
  }
 },
 "nbformat": 4,
 "nbformat_minor": 4
}
