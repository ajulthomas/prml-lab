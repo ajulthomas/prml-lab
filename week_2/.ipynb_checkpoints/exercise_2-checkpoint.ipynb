{
 "cells": [
  {
   "cell_type": "code",
   "execution_count": null,
   "id": "55eebedd-1ec3-4cd9-b0c6-bb5c0dc04caa",
   "metadata": {},
   "outputs": [],
   "source": []
  },
  {
   "cell_type": "code",
   "execution_count": null,
   "id": "a1c7fd69-be22-4f0e-9a98-c1e5d962b2c3",
   "metadata": {},
   "outputs": [],
   "source": []
  },
  {
   "cell_type": "code",
   "execution_count": 1,
   "id": "96915ac8-2a7b-4386-a45f-315806a45120",
   "metadata": {},
   "outputs": [
    {
     "name": "stdout",
     "output_type": "stream",
     "text": [
      "Predicted prices: [375.83867702 325.62942963]\n"
     ]
    }
   ],
   "source": [
    "import numpy as np\n",
    "from sklearn.linear_model import LinearRegression\n",
    "\n",
    "# Dataset\n",
    "X = np.array([[1200, 2, 1, 1995],\n",
    "              [1500, 3, 2, 2002],\n",
    "              [1800, 3, 2, 1985],\n",
    "              [1350, 2, 1, 1998],\n",
    "              [2000, 4, 3, 2010]])\n",
    "\n",
    "y = np.array([250, 320, 280, 300, 450])\n",
    "\n",
    "# Create and train the model\n",
    "model = LinearRegression()\n",
    "model.fit(X, y)\n",
    "\n",
    "# Predict house prices\n",
    "new_data = np.array([[1650, 3, 2, 2005],\n",
    "                     [1400, 2, 1, 2000]])\n",
    "\n",
    "predicted_prices = model.predict(new_data)\n",
    "print(\"Predicted prices:\", predicted_prices)\n"
   ]
  }
 ],
 "metadata": {
  "kernelspec": {
   "display_name": "Python 3 (ipykernel)",
   "language": "python",
   "name": "python3"
  },
  "language_info": {
   "codemirror_mode": {
    "name": "ipython",
    "version": 3
   },
   "file_extension": ".py",
   "mimetype": "text/x-python",
   "name": "python",
   "nbconvert_exporter": "python",
   "pygments_lexer": "ipython3",
   "version": "3.11.4"
  }
 },
 "nbformat": 4,
 "nbformat_minor": 5
}
