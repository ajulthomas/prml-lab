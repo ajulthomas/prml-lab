{
 "cells": [
  {
   "cell_type": "code",
   "execution_count": 1,
   "id": "729b8526-2236-4c0f-9663-edbcb12e7ce3",
   "metadata": {},
   "outputs": [],
   "source": [
    " from sklearn.datasets import fetch_openml\n",
    "#from sklearn.datasets import load_digits"
   ]
  },
  {
   "cell_type": "code",
   "execution_count": 3,
   "id": "37880ff3-9276-40e2-96f8-6dd884ee4267",
   "metadata": {},
   "outputs": [
    {
     "name": "stdout",
     "output_type": "stream",
     "text": [
      "Defaulting to user installation because normal site-packages is not writeableNote: you may need to restart the kernel to use updated packages.\n",
      "\n",
      "Collecting pandas\n",
      "  Downloading pandas-2.0.3-cp311-cp311-win_amd64.whl (10.6 MB)\n",
      "                                              0.0/10.6 MB ? eta -:--:--\n",
      "     -                                        0.4/10.6 MB 8.1 MB/s eta 0:00:02\n",
      "     ---                                      1.0/10.6 MB 11.0 MB/s eta 0:00:01\n",
      "     -------                                  2.0/10.6 MB 14.2 MB/s eta 0:00:01\n",
      "     ---------                                2.5/10.6 MB 13.1 MB/s eta 0:00:01\n",
      "     -----------                              3.0/10.6 MB 12.8 MB/s eta 0:00:01\n",
      "     -------------                            3.5/10.6 MB 13.3 MB/s eta 0:00:01\n",
      "     ---------------                          4.0/10.6 MB 12.2 MB/s eta 0:00:01\n",
      "     -----------------                        4.6/10.6 MB 12.7 MB/s eta 0:00:01\n",
      "     -------------------                      5.3/10.6 MB 13.0 MB/s eta 0:00:01\n",
      "     ----------------------                   5.9/10.6 MB 12.9 MB/s eta 0:00:01\n",
      "     -----------------------                  6.3/10.6 MB 12.7 MB/s eta 0:00:01\n",
      "     --------------------------               7.1/10.6 MB 12.7 MB/s eta 0:00:01\n",
      "     -----------------------------            7.9/10.6 MB 12.9 MB/s eta 0:00:01\n",
      "     -------------------------------          8.5/10.6 MB 13.2 MB/s eta 0:00:01\n",
      "     ----------------------------------       9.1/10.6 MB 13.2 MB/s eta 0:00:01\n",
      "     -----------------------------------      9.5/10.6 MB 13.0 MB/s eta 0:00:01\n",
      "     ------------------------------------     9.7/10.6 MB 12.6 MB/s eta 0:00:01\n",
      "     --------------------------------------  10.5/10.6 MB 12.8 MB/s eta 0:00:01\n",
      "     --------------------------------------- 10.6/10.6 MB 12.6 MB/s eta 0:00:00\n",
      "Requirement already satisfied: python-dateutil>=2.8.2 in c:\\users\\ajult\\appdata\\roaming\\python\\python311\\site-packages (from pandas) (2.8.2)\n",
      "Collecting pytz>=2020.1 (from pandas)\n",
      "  Downloading pytz-2023.3-py2.py3-none-any.whl (502 kB)\n",
      "                                              0.0/502.3 kB ? eta -:--:--\n",
      "     ------------------------------------- 502.3/502.3 kB 15.9 MB/s eta 0:00:00\n",
      "Collecting tzdata>=2022.1 (from pandas)\n",
      "  Downloading tzdata-2023.3-py2.py3-none-any.whl (341 kB)\n",
      "                                              0.0/341.8 kB ? eta -:--:--\n",
      "     ------------------------------------- 341.8/341.8 kB 10.7 MB/s eta 0:00:00\n",
      "Requirement already satisfied: numpy>=1.21.0 in c:\\users\\ajult\\appdata\\roaming\\python\\python311\\site-packages (from pandas) (1.25.2)\n",
      "Requirement already satisfied: six>=1.5 in c:\\users\\ajult\\appdata\\roaming\\python\\python311\\site-packages (from python-dateutil>=2.8.2->pandas) (1.16.0)\n",
      "Installing collected packages: pytz, tzdata, pandas\n",
      "Successfully installed pandas-2.0.3 pytz-2023.3 tzdata-2023.3\n"
     ]
    },
    {
     "name": "stderr",
     "output_type": "stream",
     "text": [
      "\n",
      "[notice] A new release of pip is available: 23.1.2 -> 23.2.1\n",
      "[notice] To update, run: python.exe -m pip install --upgrade pip\n"
     ]
    }
   ],
   "source": [
    "pip install pandas"
   ]
  },
  {
   "cell_type": "code",
   "execution_count": 4,
   "id": "337b9a24-f2e6-4ed8-bf19-b5868aefaf1a",
   "metadata": {},
   "outputs": [],
   "source": [
    " digits = fetch_openml('mnist_784', version = 1)\n",
    "#digits = load_digits()"
   ]
  },
  {
   "cell_type": "code",
   "execution_count": 5,
   "id": "6c54e915-a53c-493a-b5bf-4af1fda899be",
   "metadata": {},
   "outputs": [
    {
     "data": {
      "text/plain": [
       "dict_keys(['data', 'target', 'frame', 'categories', 'feature_names', 'target_names', 'DESCR', 'details', 'url'])"
      ]
     },
     "execution_count": 5,
     "metadata": {},
     "output_type": "execute_result"
    }
   ],
   "source": [
    "digits.keys()"
   ]
  },
  {
   "cell_type": "code",
   "execution_count": 6,
   "id": "386e6248-de98-4572-9562-5ac608b469f4",
   "metadata": {},
   "outputs": [
    {
     "data": {
      "text/plain": [
       "0    5\n",
       "1    0\n",
       "2    4\n",
       "3    1\n",
       "4    9\n",
       "Name: class, dtype: category\n",
       "Categories (10, object): ['0', '1', '2', '3', ..., '6', '7', '8', '9']"
      ]
     },
     "execution_count": 6,
     "metadata": {},
     "output_type": "execute_result"
    }
   ],
   "source": [
    "digits.target[:5]"
   ]
  },
  {
   "cell_type": "code",
   "execution_count": 8,
   "id": "96a3cc38-977f-4f90-9220-176452928319",
   "metadata": {},
   "outputs": [],
   "source": [
    "import numpy as np\n",
    "import matplotlib.pyplot as plt"
   ]
  },
  {
   "cell_type": "code",
   "execution_count": 16,
   "id": "f2209246-ed16-468c-baa0-69c3f333b941",
   "metadata": {},
   "outputs": [
    {
     "name": "stdout",
     "output_type": "stream",
     "text": [
      "[ 1  2  3  4  5  6  7  8  9 10]\n"
     ]
    },
    {
     "data": {
      "text/plain": [
       "array([[ 1,  2],\n",
       "       [ 3,  4],\n",
       "       [ 5,  6],\n",
       "       [ 7,  8],\n",
       "       [ 9, 10]])"
      ]
     },
     "execution_count": 16,
     "metadata": {},
     "output_type": "execute_result"
    }
   ],
   "source": [
    "somearr = np.array([1,2,3,4,5,6,7,8,9,10])\n",
    "print(somearr)\n",
    "somearr.reshape(5,2)"
   ]
  },
  {
   "cell_type": "code",
   "execution_count": 17,
   "id": "6334129d-e494-4880-9fab-f8119ea5a29c",
   "metadata": {},
   "outputs": [
    {
     "data": {
      "image/png": "[encoded data removed]",
      "text/plain": [
       "<Figure size 1000x200 with 5 Axes>"
      ]
     },
     "metadata": {},
     "output_type": "display_data"
    }
   ],
   "source": [
    "plt.figure(figsize=(10,2))\n",
    "for idx in range(5):\n",
    "    image = digits.data.iloc[idx,:]\n",
    "    label = digits.target[idx]\n",
    "    plt.subplot(1, 5, idx + 1)\n",
    "    plt.imshow(np.array(image).reshape(28, 28), cmap=plt.cm.gray)\n",
    "    plt.title('Training: %i\\n' % int(label), fontsize = 15)\n"
   ]
  }
 ],
 "metadata": {
  "kernelspec": {
   "display_name": "Python 3 (ipykernel)",
   "language": "python",
   "name": "python3"
  },
  "language_info": {
   "codemirror_mode": {
    "name": "ipython",
    "version": 3
   },
   "file_extension": ".py",
   "mimetype": "text/x-python",
   "name": "python",
   "nbconvert_exporter": "python",
   "pygments_lexer": "ipython3",
   "version": "3.11.4"
  }
 },
 "nbformat": 4,
 "nbformat_minor": 5
}
